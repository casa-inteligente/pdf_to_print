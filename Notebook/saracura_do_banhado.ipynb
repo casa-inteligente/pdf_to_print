{
 "cells": [
  {
   "cell_type": "code",
   "execution_count": 27,
   "metadata": {},
   "outputs": [
    {
     "data": {
      "text/plain": [
       "'3.7.2'"
      ]
     },
     "metadata": {},
     "output_type": "display_data"
    }
   ],
   "source": [
    "import spacy\n",
    "from PyPDF2 import PdfFileReader\n",
    "#import PyPDF2\n",
    "from pathlib import Path\n",
    "from tabula.io import read_pdf\n",
    "import datetime\n",
    "import re\n",
    "import pandas as pd\n",
    "display(spacy.__version__)"
   ]
  },
  {
   "cell_type": "code",
   "execution_count": 28,
   "metadata": {},
   "outputs": [
    {
     "data": {
      "text/plain": [
       "WindowsPath('//10.40.22.35/Plantão/Para Impressão do termo de recebimento')"
      ]
     },
     "metadata": {},
     "output_type": "display_data"
    },
    {
     "data": {
      "text/plain": [
       "WindowsPath('//10.40.22.35/Plantão/Para Impressão do termo de recebimento/Imprimir')"
      ]
     },
     "metadata": {},
     "output_type": "display_data"
    }
   ],
   "source": [
    "\n",
    "# Carregando o modelo spaCy\n",
    "nlp = spacy.load(\"pt_core_news_sm\")\n",
    "\n",
    "# Definindo o diretório de entrada e saída\n",
    "#diretorio_entrada = Path(\"C:/Users/AULA-1/Documents/GitHub/pdf_to_print/Arquivo_analisado/\")\n",
    "diretorio_entrada = Path(r\"\\\\10.40.22.35/Plantão/Para Impressão do termo de recebimento/\")\n",
    "#diretorio_saida = Path(\"C:/Users/AULA-1/Documents/GitHub/pdf_to_print/imprimir/\")\n",
    "diretorio_saida = Path(r\"\\\\10.40.22.35/Plantão/Para Impressão do termo de recebimento/Imprimir/\")\n",
    "# Criação do diretório de saída caso não exista\n",
    "diretorio_saida.mkdir(parents=True, exist_ok=True)\n",
    "display(diretorio_entrada)\n",
    "display(diretorio_saida)\n",
    "\n",
    "\n"
   ]
  },
  {
   "cell_type": "code",
   "execution_count": 30,
   "metadata": {},
   "outputs": [
    {
     "data": {
      "text/plain": [
       "'Entrou no for, para buscar o arquivo .pdf'"
      ]
     },
     "metadata": {},
     "output_type": "display_data"
    },
    {
     "data": {
      "text/plain": [
       "WindowsPath('//10.40.22.35/Plantão/Para Impressão do termo de recebimento/0000--dcssp.ciasc.gov.br_IPEN_RelatorioIpen_004_2ReltorioPorSetorImprimir.asp_cd_Unidade=8088&de_Celas=4422,4423,5746&cd_Galeria=.pdf')"
      ]
     },
     "metadata": {},
     "output_type": "display_data"
    },
    {
     "data": {
      "text/plain": [
       "'possui 3 tabelas'"
      ]
     },
     "metadata": {},
     "output_type": "display_data"
    }
   ],
   "source": [
    "\n",
    "for arquivo_pdf in diretorio_entrada.glob(\"*.pdf\"):\n",
    "    display(\"Entrou no for, para buscar o arquivo .pdf\")\n",
    "    display(arquivo_pdf)\n",
    "\n",
    "    #pdf_lido = PdfFileReader('ESTE.pdf')\n",
    "    lista_tabela = read_pdf(arquivo_pdf, pages='all')\n",
    "    #display(lista_tabela)\n",
    "    numero_tabelas = len(lista_tabela)\n",
    "    display('possui {} tabelas' .format(numero_tabelas))\n",
    "    #display(lista_tabela[1])\n",
    "    "
   ]
  },
  {
   "cell_type": "code",
   "execution_count": 53,
   "metadata": {},
   "outputs": [
    {
     "data": {
      "text/plain": [
       "[]"
      ]
     },
     "metadata": {},
     "output_type": "display_data"
    }
   ],
   "source": [
    "tabela1 = lista_tabela[1]\n",
    "tabela2 = lista_tabela[2]\n",
    "\n",
    "texto = 'eu sou o NATAN que moro na cidade dos sonhos'\n",
    "\n",
    "nomes = [entidade.text for entidade in nlp(texto).ents if entidade.label_ == \"PER\"]\n",
    "\n",
    "display(nomes)\n"
   ]
  }
 ],
 "metadata": {
  "kernelspec": {
   "display_name": "Python 3",
   "language": "python",
   "name": "python3"
  },
  "language_info": {
   "codemirror_mode": {
    "name": "ipython",
    "version": 3
   },
   "file_extension": ".py",
   "mimetype": "text/x-python",
   "name": "python",
   "nbconvert_exporter": "python",
   "pygments_lexer": "ipython3",
   "version": "3.11.1"
  }
 },
 "nbformat": 4,
 "nbformat_minor": 2
}
