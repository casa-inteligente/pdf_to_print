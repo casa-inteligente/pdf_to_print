{
 "cells": [
  {
   "cell_type": "code",
   "execution_count": null,
   "metadata": {},
   "outputs": [],
   "source": [
    "import spacy\n",
    "from PyPDF2 import PdfFileReader\n",
    "#import PyPDF2\n",
    "from pathlib import Path\n",
    "\n",
    "display(spacy.__version__)"
   ]
  },
  {
   "cell_type": "code",
   "execution_count": null,
   "metadata": {},
   "outputs": [],
   "source": [
    "\n",
    "# Carregando o modelo spaCy\n",
    "nlp = spacy.load(\"pt_core_news_sm\")\n",
    "\n",
    "# Definindo o diretório de entrada e saída\n",
    "#diretorio_entrada = Path(\"C:/Users/AULA-1/Documents/GitHub/pdf_to_print/Arquivo_analisado/\")\n",
    "diretorio_entrada = Path(r\"\\\\10.40.22.35/Plantão/Para Impressão do termo de recebimento/\")\n",
    "#diretorio_saida = Path(\"C:/Users/AULA-1/Documents/GitHub/pdf_to_print/imprimir/\")\n",
    "diretorio_saida = Path(r\"\\\\10.40.22.35/Plantão/Para Impressão do termo de recebimento/Imprimir/\")\n",
    "# Criação do diretório de saída caso não exista\n",
    "diretorio_saida.mkdir(parents=True, exist_ok=True)\n",
    "display(diretorio_entrada)\n",
    "display(diretorio_saida)\n",
    "\n",
    "\n"
   ]
  },
  {
   "cell_type": "code",
   "execution_count": 30,
   "metadata": {},
   "outputs": [
    {
     "data": {
      "text/plain": [
       "'Entrou no for, para buscar o arquivo .pdf'"
      ]
     },
     "metadata": {},
     "output_type": "display_data"
    },
    {
     "data": {
      "text/plain": [
       "WindowsPath('//10.40.22.35/Plantão/Para Impressão do termo de recebimento/ESTE.pdf')"
      ]
     },
     "metadata": {},
     "output_type": "display_data"
    }
   ],
   "source": [
    "\n",
    "for arquivo_pdf in diretorio_entrada.glob(\"*.pdf\"):\n",
    "    display(\"Entrou no for, para buscar o arquivo .pdf\")\n",
    "    display(arquivo_pdf)\n",
    "    #pdf_lido = PdfFileReader('ESTE.pdf')\n",
    " "
   ]
  },
  {
   "cell_type": "code",
   "execution_count": null,
   "metadata": {},
   "outputs": [],
   "source": []
  }
 ],
 "metadata": {
  "kernelspec": {
   "display_name": "Python 3",
   "language": "python",
   "name": "python3"
  },
  "language_info": {
   "codemirror_mode": {
    "name": "ipython",
    "version": 3
   },
   "file_extension": ".py",
   "mimetype": "text/x-python",
   "name": "python",
   "nbconvert_exporter": "python",
   "pygments_lexer": "ipython3",
   "version": "3.11.1"
  }
 },
 "nbformat": 4,
 "nbformat_minor": 2
}
