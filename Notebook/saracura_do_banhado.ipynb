{
 "cells": [
  {
   "cell_type": "code",
   "execution_count": 7,
   "metadata": {},
   "outputs": [
    {
     "ename": "FileNotFoundError",
     "evalue": "[Errno 2] No such file or directory: 'ESTE.pdf'",
     "output_type": "error",
     "traceback": [
      "\u001b[1;31m---------------------------------------------------------------------------\u001b[0m",
      "\u001b[1;31mFileNotFoundError\u001b[0m                         Traceback (most recent call last)",
      "Cell \u001b[1;32mIn[7], line 19\u001b[0m\n\u001b[0;32m     16\u001b[0m \u001b[38;5;28;01mfor\u001b[39;00m arquivo_pdf \u001b[38;5;129;01min\u001b[39;00m diretorio_entrada\u001b[38;5;241m.\u001b[39mglob(\u001b[38;5;124m\"\u001b[39m\u001b[38;5;124m*.pdf\u001b[39m\u001b[38;5;124m\"\u001b[39m):\n\u001b[0;32m     17\u001b[0m     \u001b[38;5;66;03m# Lendo o arquivo PDF\u001b[39;00m\n\u001b[0;32m     18\u001b[0m     arquivo_pdf \u001b[38;5;241m=\u001b[39m \u001b[38;5;124m\"\u001b[39m\u001b[38;5;124mESTE.pdf\u001b[39m\u001b[38;5;124m\"\u001b[39m \u001b[38;5;66;03m#Comentar esta linha\u001b[39;00m\n\u001b[1;32m---> 19\u001b[0m     \u001b[38;5;28;01mwith\u001b[39;00m \u001b[38;5;28;43mopen\u001b[39;49m\u001b[43m(\u001b[49m\u001b[43marquivo_pdf\u001b[49m\u001b[43m,\u001b[49m\u001b[43m \u001b[49m\u001b[38;5;124;43m\"\u001b[39;49m\u001b[38;5;124;43mrb\u001b[39;49m\u001b[38;5;124;43m\"\u001b[39;49m\u001b[43m)\u001b[49m \u001b[38;5;28;01mas\u001b[39;00m f:\n\u001b[0;32m     20\u001b[0m         pdf_reader \u001b[38;5;241m=\u001b[39m PdfFileReader(f)\n\u001b[0;32m     22\u001b[0m     \u001b[38;5;66;03m# Extraindo o texto do PDF\u001b[39;00m\n",
      "File \u001b[1;32m~\\AppData\\Roaming\\Python\\Python311\\site-packages\\IPython\\core\\interactiveshell.py:310\u001b[0m, in \u001b[0;36m_modified_open\u001b[1;34m(file, *args, **kwargs)\u001b[0m\n\u001b[0;32m    303\u001b[0m \u001b[38;5;28;01mif\u001b[39;00m file \u001b[38;5;129;01min\u001b[39;00m {\u001b[38;5;241m0\u001b[39m, \u001b[38;5;241m1\u001b[39m, \u001b[38;5;241m2\u001b[39m}:\n\u001b[0;32m    304\u001b[0m     \u001b[38;5;28;01mraise\u001b[39;00m \u001b[38;5;167;01mValueError\u001b[39;00m(\n\u001b[0;32m    305\u001b[0m         \u001b[38;5;124mf\u001b[39m\u001b[38;5;124m\"\u001b[39m\u001b[38;5;124mIPython won\u001b[39m\u001b[38;5;124m'\u001b[39m\u001b[38;5;124mt let you open fd=\u001b[39m\u001b[38;5;132;01m{\u001b[39;00mfile\u001b[38;5;132;01m}\u001b[39;00m\u001b[38;5;124m by default \u001b[39m\u001b[38;5;124m\"\u001b[39m\n\u001b[0;32m    306\u001b[0m         \u001b[38;5;124m\"\u001b[39m\u001b[38;5;124mas it is likely to crash IPython. If you know what you are doing, \u001b[39m\u001b[38;5;124m\"\u001b[39m\n\u001b[0;32m    307\u001b[0m         \u001b[38;5;124m\"\u001b[39m\u001b[38;5;124myou can use builtins\u001b[39m\u001b[38;5;124m'\u001b[39m\u001b[38;5;124m open.\u001b[39m\u001b[38;5;124m\"\u001b[39m\n\u001b[0;32m    308\u001b[0m     )\n\u001b[1;32m--> 310\u001b[0m \u001b[38;5;28;01mreturn\u001b[39;00m \u001b[43mio_open\u001b[49m\u001b[43m(\u001b[49m\u001b[43mfile\u001b[49m\u001b[43m,\u001b[49m\u001b[43m \u001b[49m\u001b[38;5;241;43m*\u001b[39;49m\u001b[43margs\u001b[49m\u001b[43m,\u001b[49m\u001b[43m \u001b[49m\u001b[38;5;241;43m*\u001b[39;49m\u001b[38;5;241;43m*\u001b[39;49m\u001b[43mkwargs\u001b[49m\u001b[43m)\u001b[49m\n",
      "\u001b[1;31mFileNotFoundError\u001b[0m: [Errno 2] No such file or directory: 'ESTE.pdf'"
     ]
    }
   ],
   "source": [
    "import spacy\n",
    "from PyPDF2 import PdfFileReader\n",
    "from pathlib import Path\n",
    "\n",
    "# Carregando o modelo spaCy\n",
    "nlp = spacy.load(\"pt_core_news_sm\")\n",
    "\n",
    "# Definindo o diretório de entrada e saída\n",
    "diretorio_entrada = Path(\"C:/Users/AULA-1/Documents/GitHub/pdf_to_print/Arquivo_analisado\")\n",
    "diretorio_saida = Path(\"C:/Users/AULA-1/Documents/GitHub/pdf_to_print/imprimir\")\n",
    "\n",
    "# Criando o diretório de saída caso não exista\n",
    "diretorio_saida.mkdir(parents=True, exist_ok=True)\n",
    "\n",
    "# Processando cada arquivo PDF no diretório de entrada\n",
    "for arquivo_pdf in diretorio_entrada.glob(\"*.pdf\"):\n",
    "    # Lendo o arquivo PDF\n",
    "    arquivo_pdf = \"ESTE.pdf\" #Comentar esta linha\n",
    "    with open(arquivo_pdf, \"rb\") as f:\n",
    "        pdf_reader = PdfFileReader(f)\n",
    "\n",
    "    # Extraindo o texto do PDF\n",
    "    texto_pdf = \"\"\n",
    "    for pagina in pdf_reader.pages:\n",
    "        texto_pdf += pagina.extractText()\n",
    "\n",
    "    # Identificando nomes no texto\n",
    "    nomes = [entidade.text for entidade in nlp(texto_pdf).ents if entidade.label_ == \"PER\"]\n",
    "\n",
    "    # Gerando o termo de compromisso para cada nome\n",
    "    for nome in nomes:\n",
    "        termo_compromisso = f\"\"\"\n",
    "        TERMO DE COMPROMISSO\n",
    "\n",
    "        Eu, {nome}, declaro que estou ciente dos termos e condições do presente acordo.\n",
    "\n",
    "        Assinado em {data.strftime(\"%d/%m/%Y\")}.\n",
    "\n",
    "        ___________________\n",
    "        {nome}\n",
    "        \"\"\"\n",
    "\n",
    "        # Salvando o termo de compromisso em um arquivo PDF\n",
    "        with open(diretorio_saida / f\"{nome}_termo_compromisso.pdf\", \"wb\") as f:\n",
    "            f.write(termo_compromisso.encode(\"utf-8\"))\n",
    "\n",
    "    print(f\"Termos de compromisso gerados para {arquivo_pdf.name}\")\n"
   ]
  }
 ],
 "metadata": {
  "kernelspec": {
   "display_name": "Python 3",
   "language": "python",
   "name": "python3"
  },
  "language_info": {
   "codemirror_mode": {
    "name": "ipython",
    "version": 3
   },
   "file_extension": ".py",
   "mimetype": "text/x-python",
   "name": "python",
   "nbconvert_exporter": "python",
   "pygments_lexer": "ipython3",
   "version": "3.11.1"
  }
 },
 "nbformat": 4,
 "nbformat_minor": 2
}
