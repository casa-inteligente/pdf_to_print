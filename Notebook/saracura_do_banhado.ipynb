{
 "cells": [
  {
   "cell_type": "code",
   "execution_count": 16,
   "metadata": {},
   "outputs": [
    {
     "data": {
      "text/plain": [
       "'3.7.2'"
      ]
     },
     "metadata": {},
     "output_type": "display_data"
    }
   ],
   "source": [
    "import spacy\n",
    "from PyPDF2 import PdfFileReader\n",
    "from pathlib import Path\n",
    "\n",
    "display(spacy.__version__)"
   ]
  },
  {
   "cell_type": "code",
   "execution_count": 22,
   "metadata": {},
   "outputs": [
    {
     "data": {
      "text/plain": [
       "WindowsPath('C:/Users/AULA-1/Documents/GitHub/pdf_to_print/Arquivo_analisado')"
      ]
     },
     "metadata": {},
     "output_type": "display_data"
    },
    {
     "data": {
      "text/plain": [
       "WindowsPath('C:/Users/AULA-1/Documents/GitHub/pdf_to_print/imprimir')"
      ]
     },
     "metadata": {},
     "output_type": "display_data"
    },
    {
     "data": {
      "text/plain": [
       "None"
      ]
     },
     "metadata": {},
     "output_type": "display_data"
    }
   ],
   "source": [
    "\n",
    "# Carregando o modelo spaCy\n",
    "nlp = spacy.load(\"pt_core_news_sm\")\n",
    "\n",
    "# Definindo o diretório de entrada e saída\n",
    "diretorio_entrada = Path(\"C:/Users/AULA-1/Documents/GitHub/pdf_to_print/Arquivo_analisado/\")\n",
    "diretorio_saida = Path(\"C:/Users/AULA-1/Documents/GitHub/pdf_to_print/imprimir/\")\n",
    "# Criação do diretório de saída caso não exista\n",
    "diretorio_saida.mkdir(parents=True, exist_ok=True)\n",
    "display(diretorio_entrada)\n",
    "display(diretorio_saida)\n",
    "\n",
    "# Criação do diretório de saída caso não exista\n",
    "status_v = diretorio_saida.mkdir(parents=True, exist_ok=True)\n",
    "display(status_v)"
   ]
  }
 ],
 "metadata": {
  "kernelspec": {
   "display_name": "Python 3",
   "language": "python",
   "name": "python3"
  },
  "language_info": {
   "codemirror_mode": {
    "name": "ipython",
    "version": 3
   },
   "file_extension": ".py",
   "mimetype": "text/x-python",
   "name": "python",
   "nbconvert_exporter": "python",
   "pygments_lexer": "ipython3",
   "version": "3.11.1"
  }
 },
 "nbformat": 4,
 "nbformat_minor": 2
}
