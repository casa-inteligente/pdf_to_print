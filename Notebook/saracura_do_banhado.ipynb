{
 "cells": [
  {
   "cell_type": "code",
   "execution_count": 1,
   "metadata": {},
   "outputs": [
    {
     "ename": "SyntaxError",
     "evalue": "(unicode error) 'unicodeescape' codec can't decode bytes in position 2-3: truncated \\UXXXXXXXX escape (2458876457.py, line 9)",
     "output_type": "error",
     "traceback": [
      "\u001b[1;36m  Cell \u001b[1;32mIn[1], line 9\u001b[1;36m\u001b[0m\n\u001b[1;33m    diretorio_entrada = Path(\"C:\\Users\\AULA-1\\Documents\\GitHub\\pdf_to_print\\Arquivo_analisado\")\u001b[0m\n\u001b[1;37m                                                                                              ^\u001b[0m\n\u001b[1;31mSyntaxError\u001b[0m\u001b[1;31m:\u001b[0m (unicode error) 'unicodeescape' codec can't decode bytes in position 2-3: truncated \\UXXXXXXXX escape\n"
     ]
    }
   ],
   "source": [
    "import spacy\n",
    "from PyPDF2 import PdfFileReader\n",
    "from pathlib import Path\n",
    "\n",
    "# Carregando o modelo spaCy\n",
    "nlp = spacy.load(\"pt_core_news_sm\")\n",
    "\n",
    "# Definindo o diretório de entrada e saída\n",
    "diretorio_entrada = Path(\"C:\\Users\\AULA-1\\Documents\\GitHub\\pdf_to_print\\Arquivo_analisado\")\n",
    "diretorio_saida = Path(\"C:\\Users\\AULA-1\\Documents\\GitHub\\pdf_to_print\\imprimir\")\n",
    "\n",
    "# Criando o diretório de saída caso não exista\n",
    "diretorio_saida.mkdir(parents=True, exist_ok=True)\n",
    "\n",
    "# Processando cada arquivo PDF no diretório de entrada\n",
    "for arquivo_pdf in diretorio_entrada.glob(\"*.pdf\"):\n",
    "    # Lendo o arquivo PDF\n",
    "    #arquivo_pdf = \"ESTE.pdf\"\n",
    "    with open(arquivo_pdf, \"rb\") as f:\n",
    "        pdf_reader = PdfFileReader(f)\n",
    "\n",
    "    # Extraindo o texto do PDF\n",
    "    texto_pdf = \"\"\n",
    "    for pagina in pdf_reader.pages:\n",
    "        texto_pdf += pagina.extractText()\n",
    "\n",
    "    # Identificando nomes no texto\n",
    "    nomes = [entidade.text for entidade in nlp(texto_pdf).ents if entidade.label_ == \"PER\"]\n",
    "\n",
    "    # Gerando o termo de compromisso para cada nome\n",
    "    for nome in nomes:\n",
    "        termo_compromisso = f\"\"\"\n",
    "        TERMO DE COMPROMISSO\n",
    "\n",
    "        Eu, {nome}, declaro que estou ciente dos termos e condições do presente acordo.\n",
    "\n",
    "        Assinado em {data.strftime(\"%d/%m/%Y\")}.\n",
    "\n",
    "        ___________________\n",
    "        {nome}\n",
    "        \"\"\"\n",
    "\n",
    "        # Salvando o termo de compromisso em um arquivo PDF\n",
    "        with open(diretorio_saida / f\"{nome}_termo_compromisso.pdf\", \"wb\") as f:\n",
    "            f.write(termo_compromisso.encode(\"utf-8\"))\n",
    "\n",
    "    print(f\"Termos de compromisso gerados para {arquivo_pdf.name}\")\n"
   ]
  }
 ],
 "metadata": {
  "kernelspec": {
   "display_name": "Python 3",
   "language": "python",
   "name": "python3"
  },
  "language_info": {
   "codemirror_mode": {
    "name": "ipython",
    "version": 3
   },
   "file_extension": ".py",
   "mimetype": "text/x-python",
   "name": "python",
   "nbconvert_exporter": "python",
   "pygments_lexer": "ipython3",
   "version": "3.11.1"
  }
 },
 "nbformat": 4,
 "nbformat_minor": 2
}
