{
 "cells": [
  {
   "cell_type": "code",
   "execution_count": 74,
   "metadata": {},
   "outputs": [
    {
     "data": {
      "text/plain": [
       "'3.7.2'"
      ]
     },
     "metadata": {},
     "output_type": "display_data"
    }
   ],
   "source": [
    "import spacy\n",
    "from PyPDF2 import PdfFileReader\n",
    "#import PyPDF2\n",
    "from pathlib import Path\n",
    "from tabula.io import read_pdf\n",
    "import datetime\n",
    "import re\n",
    "import pandas as pd\n",
    "display(spacy.__version__)"
   ]
  },
  {
   "cell_type": "code",
   "execution_count": 79,
   "metadata": {},
   "outputs": [
    {
     "data": {
      "text/plain": [
       "WindowsPath('//10.40.22.35/Plantão/Para Impressão do termo de recebimento')"
      ]
     },
     "metadata": {},
     "output_type": "display_data"
    },
    {
     "data": {
      "text/plain": [
       "WindowsPath('//10.40.22.35/Plantão/Para Impressão do termo de recebimento/Imprimir')"
      ]
     },
     "metadata": {},
     "output_type": "display_data"
    }
   ],
   "source": [
    "\n",
    "# Carregando o modelo spaCy\n",
    "nlp = spacy.load(\"pt_core_news_sm\")\n",
    "#nlp = spacy.load(\"pt\")\n",
    "# Definindo o diretório de entrada e saída\n",
    "#diretorio_entrada = Path(\"C:/Users/AULA-1/Documents/GitHub/pdf_to_print/Arquivo_analisado/\")\n",
    "diretorio_entrada = Path(r\"\\\\10.40.22.35/Plantão/Para Impressão do termo de recebimento/\")\n",
    "#diretorio_saida = Path(\"C:/Users/AULA-1/Documents/GitHub/pdf_to_print/imprimir/\")\n",
    "diretorio_saida = Path(r\"\\\\10.40.22.35/Plantão/Para Impressão do termo de recebimento/Imprimir/\")\n",
    "# Criação do diretório de saída caso não exista\n",
    "diretorio_saida.mkdir(parents=True, exist_ok=True)\n",
    "display(diretorio_entrada)\n",
    "display(diretorio_saida)\n",
    "\n",
    "\n"
   ]
  },
  {
   "cell_type": "code",
   "execution_count": 83,
   "metadata": {},
   "outputs": [
    {
     "data": {
      "text/plain": [
       "'Entrou no for, para buscar o arquivo .pdf'"
      ]
     },
     "metadata": {},
     "output_type": "display_data"
    },
    {
     "data": {
      "text/plain": [
       "WindowsPath('//10.40.22.35/Plantão/Para Impressão do termo de recebimento/0000--dcssp.ciasc.gov.br_IPEN_RelatorioIpen_004_2ReltorioPorSetorImprimir.asp_cd_Unidade=8088&de_Celas=4422,4423,5746&cd_Galeria=.pdf')"
      ]
     },
     "metadata": {},
     "output_type": "display_data"
    },
    {
     "data": {
      "text/plain": [
       "'possui 3 tabelas'"
      ]
     },
     "metadata": {},
     "output_type": "display_data"
    }
   ],
   "source": [
    "\n",
    "for arquivo_pdf in diretorio_entrada.glob(\"*.pdf\"):\n",
    "    display(\"Entrou no for, para buscar o arquivo .pdf\")\n",
    "    display(arquivo_pdf)\n",
    "\n",
    "    #pdf_lido = PdfFileReader('ESTE.pdf')\n",
    "    lista_tabela = read_pdf(arquivo_pdf, pages='all')\n",
    "    #display(lista_tabela)\n",
    "    numero_tabelas = len(lista_tabela)\n",
    "    display('possui {} tabelas' .format(numero_tabelas))\n",
    "    #display(lista_tabela[1])\n",
    "    "
   ]
  },
  {
   "cell_type": "markdown",
   "metadata": {},
   "source": [
    "https://medium.com/botsbrasil/como-reconhecer-entidades-na-l%C3%ADngua-portuguesa-usando-spacy-8a5ca6f42c4f"
   ]
  },
  {
   "cell_type": "code",
   "execution_count": 87,
   "metadata": {},
   "outputs": [
    {
     "ename": "AttributeError",
     "evalue": "'list' object has no attribute 'read_text'",
     "output_type": "error",
     "traceback": [
      "\u001b[1;31m---------------------------------------------------------------------------\u001b[0m",
      "\u001b[1;31mAttributeError\u001b[0m                            Traceback (most recent call last)",
      "Cell \u001b[1;32mIn[87], line 4\u001b[0m\n\u001b[0;32m      1\u001b[0m tabela1 \u001b[38;5;241m=\u001b[39m lista_tabela[\u001b[38;5;241m1\u001b[39m]\n\u001b[0;32m      2\u001b[0m tabela2 \u001b[38;5;241m=\u001b[39m lista_tabela[\u001b[38;5;241m2\u001b[39m]\n\u001b[1;32m----> 4\u001b[0m doc \u001b[38;5;241m=\u001b[39m nlp(\u001b[43mlista_tabela\u001b[49m\u001b[38;5;241;43m.\u001b[39;49m\u001b[43mread_text\u001b[49m())\n\u001b[0;32m      6\u001b[0m \u001b[38;5;66;03m#nomes = [entidade.text for entidade in nlp(texto).ents if entidade.label_ == \"PER\"]\u001b[39;00m\n",
      "\u001b[1;31mAttributeError\u001b[0m: 'list' object has no attribute 'read_text'"
     ]
    }
   ],
   "source": [
    "tabela1 = lista_tabela[1]\n",
    "tabela2 = lista_tabela[2]\n",
    "\n",
    "doc = nlp(lista_tabela.read_text())\n",
    "\n",
    "#nomes = [entidade.text for entidade in nlp(texto).ents if entidade.label_ == \"PER\"]\n",
    "\n"
   ]
  },
  {
   "cell_type": "code",
   "execution_count": null,
   "metadata": {},
   "outputs": [],
   "source": []
  }
 ],
 "metadata": {
  "kernelspec": {
   "display_name": "Python 3",
   "language": "python",
   "name": "python3"
  },
  "language_info": {
   "codemirror_mode": {
    "name": "ipython",
    "version": 3
   },
   "file_extension": ".py",
   "mimetype": "text/x-python",
   "name": "python",
   "nbconvert_exporter": "python",
   "pygments_lexer": "ipython3",
   "version": "3.11.1"
  }
 },
 "nbformat": 4,
 "nbformat_minor": 2
}
